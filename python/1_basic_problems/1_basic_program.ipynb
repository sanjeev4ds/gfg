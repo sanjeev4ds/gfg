{
  "nbformat": 4,
  "nbformat_minor": 0,
  "metadata": {
    "colab": {
      "provenance": []
    },
    "kernelspec": {
      "name": "python3",
      "display_name": "Python 3"
    },
    "language_info": {
      "name": "python"
    }
  },
  "cells": [
    {
      "cell_type": "code",
      "execution_count": 1,
      "metadata": {
        "id": "cv8FA9aAaGlw"
      },
      "outputs": [],
      "source": [
        "#1 https://www.geeksforgeeks.org/python-program-to-add-two-numbers/"
      ]
    },
    {
      "cell_type": "code",
      "source": [
        "def fun_add_two_numbers(num1, num2):\n",
        "  return num1+ num2\n",
        "\n",
        "#take input1 from user\n",
        "num1= int(input(\"enter num1=\"))\n",
        "num2= int(input(\"enter num2=\"))\n",
        "\n",
        "result = fun_add_two_numbers(num1, num2)\n",
        "print(\"addition of two number is:\",result)"
      ],
      "metadata": {
        "colab": {
          "base_uri": "https://localhost:8080/"
        },
        "id": "okej1qACaTZD",
        "outputId": "624a6d67-eec3-480f-c77d-a887269be153"
      },
      "execution_count": 5,
      "outputs": [
        {
          "output_type": "stream",
          "name": "stdout",
          "text": [
            "enter num1=1\n",
            "enter num2=2\n",
            "addition of two number is: 3\n"
          ]
        }
      ]
    },
    {
      "cell_type": "code",
      "source": [
        "#2 https://www.geeksforgeeks.org/maximum-of-two-numbers-in-python/"
      ],
      "metadata": {
        "id": "KrsslIV0agJ_"
      },
      "execution_count": 6,
      "outputs": []
    },
    {
      "cell_type": "code",
      "source": [
        "def find_maximum(num1, num2):\n",
        "  if num1==num2:\n",
        "    return num1\n",
        "  elif num1>num2:\n",
        "    return num1\n",
        "  else:\n",
        "    return num2\n",
        "\n",
        "print(\"find_maximum(2,4)\", find_maximum(2,4))\n",
        "print(\"find_maximum(5,3)\", find_maximum(5,3))"
      ],
      "metadata": {
        "colab": {
          "base_uri": "https://localhost:8080/"
        },
        "id": "NQLF1igUbctA",
        "outputId": "cd2b187e-f741-4829-d803-243a913a5b8b"
      },
      "execution_count": 7,
      "outputs": [
        {
          "output_type": "stream",
          "name": "stdout",
          "text": [
            "find_maximum(2,4) 4\n",
            "find_maximum(5,3) 5\n"
          ]
        }
      ]
    },
    {
      "cell_type": "code",
      "source": [
        "#3 Python Program for factorial of a number"
      ],
      "metadata": {
        "id": "tqhQtGcxcVrn"
      },
      "execution_count": 8,
      "outputs": []
    },
    {
      "cell_type": "code",
      "source": [
        "#with for loop\n",
        "def factorial(num):\n",
        "\n",
        "  if(num<0):\n",
        "    return False\n",
        "  elif(num==0 or num==1):\n",
        "    return 1\n",
        "\n",
        "  fact_result = 1\n",
        "  for i in range(num, 0, -1):\n",
        "    fact_result*= i\n",
        "  return fact_result\n",
        "\n",
        "print(factorial(5))\n",
        "print(factorial(-1))\n",
        "print(factorial(0))"
      ],
      "metadata": {
        "colab": {
          "base_uri": "https://localhost:8080/"
        },
        "id": "WjUeX7hlc4Tf",
        "outputId": "f8e0e377-940e-4cd8-b8e7-3452d1e8f5b7"
      },
      "execution_count": 12,
      "outputs": [
        {
          "output_type": "stream",
          "name": "stdout",
          "text": [
            "120\n",
            "False\n",
            "1\n"
          ]
        }
      ]
    },
    {
      "cell_type": "code",
      "source": [
        "#with recursion\n",
        "\n",
        "def factorial_recursion(num):\n",
        "  if(num==0 or num==1):\n",
        "    return 1\n",
        "  return num * factorial_recursion(num-1)\n",
        "\n",
        "#4\n",
        "#4 * 6 = 24\n",
        "print(factorial_recursion(4))\n",
        "print(factorial_recursion(5))\n",
        "print(factorial_recursion(0))"
      ],
      "metadata": {
        "colab": {
          "base_uri": "https://localhost:8080/"
        },
        "id": "7J4fgoBHdlk9",
        "outputId": "d3ac1081-b252-4299-b1ea-f744c5de0799"
      },
      "execution_count": 15,
      "outputs": [
        {
          "output_type": "stream",
          "name": "stdout",
          "text": [
            "24\n",
            "120\n",
            "1\n"
          ]
        }
      ]
    },
    {
      "cell_type": "code",
      "source": [
        "#4 https://www.geeksforgeeks.org/python-program-for-simple-interest/\n",
        "\n",
        "#Input : P = 10000\n",
        "#       R = 5\n",
        "#      T = 5\n",
        "#Output :2500.0"
      ],
      "metadata": {
        "id": "j6uQLoAifAfX"
      },
      "execution_count": 16,
      "outputs": []
    },
    {
      "cell_type": "code",
      "source": [
        "def simple_interest(p, r, t):\n",
        "  return p* (r/100) * t\n",
        "\n",
        "print(simple_interest(10000, 5, 5))"
      ],
      "metadata": {
        "colab": {
          "base_uri": "https://localhost:8080/"
        },
        "id": "ZdhwGax_ffPI",
        "outputId": "842620de-b34d-4165-b445-3d00b25e3da7"
      },
      "execution_count": 17,
      "outputs": [
        {
          "output_type": "stream",
          "name": "stdout",
          "text": [
            "2500.0\n"
          ]
        }
      ]
    },
    {
      "cell_type": "code",
      "source": [
        "#5 https://www.geeksforgeeks.org/python-program-for-compound-interest/"
      ],
      "metadata": {
        "id": "l3sxIrsngA4r"
      },
      "execution_count": 18,
      "outputs": []
    },
    {
      "cell_type": "code",
      "source": [
        "print(\"{:.2f}   saini\".format(245.456))\n",
        "num_till_2_decimal = float(\"{:.2f}\".format(245.678))\n",
        "print(num_till_2_decimal)\n",
        "print(type(num_till_2_decimal))\n",
        "\n",
        "num_till_2_decimal = float(\"{:.2f}\".format(245))\n",
        "print(num_till_2_decimal)\n",
        "print(type(num_till_2_decimal))\n",
        "\n",
        "\n",
        "print(round(245.456, 2))\n",
        "print(type(round(245.456, 2)))\n",
        "\n",
        "print(round(245, 2))\n",
        "print(type(round(245, 2)))\n",
        "\n",
        "#for directly passing variable inside string use f before\n",
        "normal_float_number = 245.789123\n",
        "value_= float(f\"{normal_float_number:.1f}\")\n",
        "print(value_)\n",
        "print(type(value_))"
      ],
      "metadata": {
        "colab": {
          "base_uri": "https://localhost:8080/"
        },
        "id": "__yja05kkG_7",
        "outputId": "38ac983d-e016-4b5a-babc-e8fbb6c41ac9"
      },
      "execution_count": 45,
      "outputs": [
        {
          "output_type": "stream",
          "name": "stdout",
          "text": [
            "245.46   saini\n",
            "245.68\n",
            "<class 'float'>\n",
            "245.0\n",
            "<class 'float'>\n",
            "245.46\n",
            "<class 'float'>\n",
            "245\n",
            "<class 'int'>\n",
            "245.8\n",
            "<class 'float'>\n"
          ]
        }
      ]
    },
    {
      "cell_type": "code",
      "source": [
        "def compound_interest(principal, rate, time):\n",
        "  amount = principal* (1 + (rate/100))**time\n",
        "  ci= amount- principal\n",
        "  return ci\n",
        "\n",
        "result = compound_interest(10000, 10.25, 5)\n",
        "print(result)\n",
        "\n",
        "\n",
        "print(f\"{result:.2f}\")\n",
        "\n",
        "print(\"{:.4f}\".format(result))"
      ],
      "metadata": {
        "colab": {
          "base_uri": "https://localhost:8080/"
        },
        "id": "jRtlpsFlgcFW",
        "outputId": "cf64764e-2d89-4e01-e784-5d71e52a030e"
      },
      "execution_count": 46,
      "outputs": [
        {
          "output_type": "stream",
          "name": "stdout",
          "text": [
            "6288.946267774416\n",
            "6288.95\n",
            "6288.9463\n"
          ]
        }
      ]
    },
    {
      "cell_type": "code",
      "source": [],
      "metadata": {
        "id": "PVY-3QVohLlV"
      },
      "execution_count": 20,
      "outputs": []
    },
    {
      "cell_type": "code",
      "source": [],
      "metadata": {
        "id": "o5Hn3o48jNnG"
      },
      "execution_count": null,
      "outputs": []
    },
    {
      "cell_type": "code",
      "source": [],
      "metadata": {
        "id": "eBzDiIyCl1wu"
      },
      "execution_count": null,
      "outputs": []
    },
    {
      "cell_type": "code",
      "source": [],
      "metadata": {
        "id": "64oB5TDcl1zX"
      },
      "execution_count": null,
      "outputs": []
    },
    {
      "cell_type": "code",
      "source": [],
      "metadata": {
        "id": "_lX0Ex7el12Q"
      },
      "execution_count": null,
      "outputs": []
    },
    {
      "cell_type": "code",
      "source": [],
      "metadata": {
        "id": "v-9hOijHl143"
      },
      "execution_count": null,
      "outputs": []
    },
    {
      "cell_type": "code",
      "source": [],
      "metadata": {
        "id": "nVpqFaq1l17l"
      },
      "execution_count": null,
      "outputs": []
    }
  ]
}