{
  "nbformat": 4,
  "nbformat_minor": 0,
  "metadata": {
    "colab": {
      "provenance": []
    },
    "kernelspec": {
      "name": "python3",
      "display_name": "Python 3"
    },
    "language_info": {
      "name": "python"
    }
  },
  "cells": [
    {
      "cell_type": "code",
      "execution_count": 2,
      "metadata": {
        "id": "HMl1pJE4oM2N"
      },
      "outputs": [],
      "source": [
        "#1 https://www.geeksforgeeks.org/python-program-to-find-sum-of-array/\n",
        "\n",
        "#Input : arr[] = {1, 2, 3}\n",
        "#Output : 6\n",
        "#Explanation: 1 + 2 + 3 = 6"
      ]
    },
    {
      "cell_type": "code",
      "source": [
        "def sum_array(arr):\n",
        "  return sum(arr)\n",
        "\n",
        "arr = [1,2,3]\n",
        "print(sum_array(arr))"
      ],
      "metadata": {
        "colab": {
          "base_uri": "https://localhost:8080/"
        },
        "id": "yRUgCOTUsCQn",
        "outputId": "2391826f-6699-4949-a703-35e9d09823a9"
      },
      "execution_count": 12,
      "outputs": [
        {
          "output_type": "stream",
          "name": "stdout",
          "text": [
            "6\n"
          ]
        }
      ]
    },
    {
      "cell_type": "code",
      "source": [
        "def sum_array(arr):\n",
        "  sum_ = 0\n",
        "  for num in arr:\n",
        "    sum_+= num\n",
        "  return sum_\n",
        "\n",
        "arr = [1,2,3]\n",
        "print(sum_array(arr))"
      ],
      "metadata": {
        "colab": {
          "base_uri": "https://localhost:8080/"
        },
        "id": "CtPPAMZSsH81",
        "outputId": "3144604c-f99d-4ec5-c6c3-cc4e1b5a0398"
      },
      "execution_count": 14,
      "outputs": [
        {
          "output_type": "stream",
          "name": "stdout",
          "text": [
            "6\n"
          ]
        }
      ]
    },
    {
      "cell_type": "code",
      "source": [
        "def sum_array(arr):\n",
        "  sum_ = 0\n",
        "  [sum_:= sum_+num for num in arr]\n",
        "  return sum_\n",
        "\n",
        "  # return [sum_:= sum_+num for num in arr][-1]\n",
        "\n",
        "arr = [1,2,3]\n",
        "print(sum_array(arr))"
      ],
      "metadata": {
        "colab": {
          "base_uri": "https://localhost:8080/"
        },
        "id": "b4M0173eo0Fp",
        "outputId": "3366fd76-ff70-4713-e7fc-2ac9a6910384"
      },
      "execution_count": 15,
      "outputs": [
        {
          "output_type": "stream",
          "name": "stdout",
          "text": [
            "6\n"
          ]
        }
      ]
    },
    {
      "cell_type": "markdown",
      "source": [
        "Benefits of List Comprehension Over a For Loop\n",
        "List comprehension in Python is often preferred over regular for loops in certain scenarios, but it's important to understand both the advantages and limitations. Here are some key points:\n",
        "\n",
        "1. Conciseness and Readability\n",
        "List comprehensions allow you to write more concise and compact code for simple operations. For example, creating a list of squares with list comprehension is more succinct than a traditional for loop:\n",
        "\n",
        "2. Performance\n",
        "List comprehensions are generally faster than for loops in Python for creating or transforming lists. This is because list comprehensions are optimized for the specific task of building lists, while for loops require additional overhead for managing the loop itself and appending items one by one.\n",
        "\n",
        "3. Memory Efficiency (in some cases)\n",
        "Although both list comprehensions and for loops work with lists, list comprehensions can sometimes be more memory efficient because they do the transformation in-place rather than repeatedly calling append(). However, note that list comprehensions still create a new list, so their memory use is typically about the same as a for loop, but they can be more efficient when the operation inside the comprehension is simple."
      ],
      "metadata": {
        "id": "Fvxd_SPBvT1Q"
      }
    },
    {
      "cell_type": "code",
      "source": [
        "#2 https://www.geeksforgeeks.org/python-program-to-find-largest-element-in-an-array/"
      ],
      "metadata": {
        "id": "u-voghl-vWSY"
      },
      "execution_count": 16,
      "outputs": []
    },
    {
      "cell_type": "code",
      "source": [
        "#bubble sort example\n",
        "def bubble_sort_example(arr):\n",
        "  len_arr = len(arr)\n",
        "  print(arr)\n",
        "  for i in range(len_arr-1):\n",
        "    print(\"i\", i)\n",
        "    for j in range(len_arr-1-i):\n",
        "      if(arr[j]> arr[j+1]):\n",
        "        temp = arr[j]\n",
        "        arr[j] = arr[j+1]\n",
        "        arr[j+1] = temp\n",
        "    print(arr)\n",
        "bubble_sort_example([4,5,3,2,1])"
      ],
      "metadata": {
        "colab": {
          "base_uri": "https://localhost:8080/"
        },
        "id": "F6oPr18Tv2lF",
        "outputId": "55256236-4d34-496a-ad5b-2bd1e5f75d7f"
      },
      "execution_count": 23,
      "outputs": [
        {
          "output_type": "stream",
          "name": "stdout",
          "text": [
            "[4, 5, 3, 2, 1]\n",
            "i 0\n",
            "[4, 3, 2, 1, 5]\n",
            "i 1\n",
            "[3, 2, 1, 4, 5]\n",
            "i 2\n",
            "[2, 1, 3, 4, 5]\n",
            "i 3\n",
            "[1, 2, 3, 4, 5]\n"
          ]
        }
      ]
    },
    {
      "cell_type": "code",
      "source": [
        "def largest_in_array(arr):\n",
        "  len_arr = len(arr)\n",
        "  largest = arr[0]\n",
        "  #iteration starting from 1st index\n",
        "  for j in range(1,len_arr):\n",
        "      if(arr[j]> largest):\n",
        "        largest = arr[j]\n",
        "  return largest\n",
        "print(largest_in_array([4, 5, 3, 2, 1]))"
      ],
      "metadata": {
        "colab": {
          "base_uri": "https://localhost:8080/"
        },
        "id": "SaOXCIX804om",
        "outputId": "e2cdadef-989e-43e7-f066-7e68c3843706"
      },
      "execution_count": 27,
      "outputs": [
        {
          "output_type": "stream",
          "name": "stdout",
          "text": [
            "5\n"
          ]
        }
      ]
    },
    {
      "cell_type": "code",
      "source": [
        "def largest_in_array(arr):\n",
        "  len_arr = len(arr)\n",
        "  largest = arr[len_arr-1]\n",
        "  #iteration starting from 0th index\n",
        "  for j in range(len_arr-1):\n",
        "      if(arr[j]> largest):\n",
        "        largest = arr[j]\n",
        "  return largest\n",
        "print(largest_in_array([4, 5, 3, 2, 1]))"
      ],
      "metadata": {
        "colab": {
          "base_uri": "https://localhost:8080/"
        },
        "id": "BAQkTasg3cji",
        "outputId": "87876ddc-c109-4966-b6e2-7eb5696aea25"
      },
      "execution_count": 28,
      "outputs": [
        {
          "output_type": "stream",
          "name": "stdout",
          "text": [
            "5\n"
          ]
        }
      ]
    },
    {
      "cell_type": "code",
      "source": [
        "def largest_in_array(arr):\n",
        "  largest = arr[0]\n",
        "  [largest:= ele for ele in arr if ele>largest]\n",
        "  return largest\n",
        "print(largest_in_array([4, 5, 3, 2, 1]))"
      ],
      "metadata": {
        "colab": {
          "base_uri": "https://localhost:8080/"
        },
        "id": "s-mNg5us4F1l",
        "outputId": "196f7ac1-640f-4907-f798-871b2d86fa34"
      },
      "execution_count": 30,
      "outputs": [
        {
          "output_type": "stream",
          "name": "stdout",
          "text": [
            "5\n"
          ]
        }
      ]
    },
    {
      "cell_type": "code",
      "source": [],
      "metadata": {
        "id": "otv5WKXn5Km6"
      },
      "execution_count": null,
      "outputs": []
    }
  ]
}