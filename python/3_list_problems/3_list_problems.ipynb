{
  "nbformat": 4,
  "nbformat_minor": 0,
  "metadata": {
    "colab": {
      "provenance": []
    },
    "kernelspec": {
      "name": "python3",
      "display_name": "Python 3"
    },
    "language_info": {
      "name": "python"
    }
  },
  "cells": [
    {
      "cell_type": "code",
      "execution_count": 1,
      "metadata": {
        "id": "8_iJbauCCJki"
      },
      "outputs": [],
      "source": [
        "#1.Python | Ways to check if element exists in list"
      ]
    },
    {
      "cell_type": "code",
      "source": [
        "def ele_exist_in_list(arr, ele):\n",
        "  if ele in arr:\n",
        "    return True\n",
        "  return False\n",
        "\n",
        "print(ele_exist_in_list([1,2,3,4], 5))\n",
        "print(ele_exist_in_list([1,2,3,4], 3))"
      ],
      "metadata": {
        "colab": {
          "base_uri": "https://localhost:8080/"
        },
        "id": "0hQfG59nCOzh",
        "outputId": "2b9b42d2-8563-4ea2-fa32-a7fdc2e2feea"
      },
      "execution_count": 3,
      "outputs": [
        {
          "output_type": "stream",
          "name": "stdout",
          "text": [
            "False\n",
            "True\n"
          ]
        }
      ]
    },
    {
      "cell_type": "code",
      "source": [
        "def ele_exist_in_list(arr, ele):\n",
        "  for curr_ele in arr:\n",
        "    if ele ==curr_ele:\n",
        "      return True\n",
        "  return False\n",
        "\n",
        "print(ele_exist_in_list([1,2,3,4], 5))\n",
        "print(ele_exist_in_list([1,2,3,4], 3))"
      ],
      "metadata": {
        "colab": {
          "base_uri": "https://localhost:8080/"
        },
        "id": "ZGOzsrUVCd-g",
        "outputId": "39bd9fd8-2739-4558-cfc6-783eaa980f2b"
      },
      "execution_count": 5,
      "outputs": [
        {
          "output_type": "stream",
          "name": "stdout",
          "text": [
            "False\n",
            "True\n"
          ]
        }
      ]
    },
    {
      "cell_type": "code",
      "source": [
        "def ele_exist_in_list(arr, ele):\n",
        "  return True if ele in arr else False\n",
        "\n",
        "print(ele_exist_in_list([1,2,3,4], 5))\n",
        "print(ele_exist_in_list([1,2,3,4], 3))"
      ],
      "metadata": {
        "colab": {
          "base_uri": "https://localhost:8080/"
        },
        "id": "CjuM55MhCwKq",
        "outputId": "d8b270ad-df93-4831-b959-8ed8894180ce"
      },
      "execution_count": 6,
      "outputs": [
        {
          "output_type": "stream",
          "name": "stdout",
          "text": [
            "False\n",
            "True\n"
          ]
        }
      ]
    },
    {
      "cell_type": "code",
      "source": [
        "def ele_exist_in_list(arr, ele):\n",
        "  result = False\n",
        "  [result:= True for curr_ele in arr if ele ==curr_ele]\n",
        "  return result\n",
        "\n",
        "print(ele_exist_in_list([1,2,3,4], 5))\n",
        "print(ele_exist_in_list([1,2,3,4], 3))"
      ],
      "metadata": {
        "colab": {
          "base_uri": "https://localhost:8080/"
        },
        "id": "ACA3MMq4C7le",
        "outputId": "2814d876-70b1-472d-8949-33d3d28be3d5"
      },
      "execution_count": 10,
      "outputs": [
        {
          "output_type": "stream",
          "name": "stdout",
          "text": [
            "False\n",
            "True\n"
          ]
        }
      ]
    },
    {
      "cell_type": "code",
      "source": [
        "list_= [1,2,3,4,5,6]\n",
        "\n",
        "unexpected_output = [ele for ele in list_ if ele%2==0]\n",
        "\n",
        "print(unexpected_output)"
      ],
      "metadata": {
        "colab": {
          "base_uri": "https://localhost:8080/"
        },
        "id": "FycwxFRoD8du",
        "outputId": "cf85426f-38f5-4958-b8e8-382e26b226d0"
      },
      "execution_count": 12,
      "outputs": [
        {
          "output_type": "stream",
          "name": "stdout",
          "text": [
            "[2, 4, 6]\n"
          ]
        }
      ]
    },
    {
      "cell_type": "code",
      "source": [
        "def ele_exist_in_list(arr, ele):\n",
        "  result_ = [True for cur_ele in arr if cur_ele==ele]\n",
        "  return result_[0] if len(result_) >0 else False\n",
        "\n",
        "print(ele_exist_in_list([1,2,3,4], 5))\n",
        "print(ele_exist_in_list([1,2,3,4], 3))"
      ],
      "metadata": {
        "colab": {
          "base_uri": "https://localhost:8080/"
        },
        "id": "6rvpjpAJD8gI",
        "outputId": "8d76e4ff-07b8-41e1-a5ec-09674df8f0b8"
      },
      "execution_count": 17,
      "outputs": [
        {
          "output_type": "stream",
          "name": "stdout",
          "text": [
            "False\n",
            "True\n"
          ]
        }
      ]
    },
    {
      "cell_type": "code",
      "source": [],
      "metadata": {
        "id": "jQbgpDNaFSvn"
      },
      "execution_count": null,
      "outputs": []
    }
  ]
}